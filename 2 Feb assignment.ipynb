{
 "cells": [
  {
   "cell_type": "markdown",
   "id": "e747b242-f06f-42ef-b765-4bc0f7c93de3",
   "metadata": {},
   "source": [
    "Answer 1\n",
    "We can use For loop when the number of iterations is fixed.\n",
    "For example:\n",
    "l=[1,2,3,5,6]\n",
    "for i in l:\n",
    "    print(i)\n",
    "    \n",
    "    \n",
    "we use while loop when number of iterations are not fixed\n",
    "For example:\n",
    "l=[1,2,3,4,5,6]\n",
    "i=0\n",
    "while i<len(l):\n",
    "    print(l[i])\n",
    "    i=i+1\n"
   ]
  },
  {
   "cell_type": "code",
   "execution_count": 2,
   "id": "cec15201-ffe0-4896-83d4-fe8c351d1c6f",
   "metadata": {},
   "outputs": [
    {
     "name": "stdout",
     "output_type": "stream",
     "text": [
      "55 3628800\n"
     ]
    }
   ],
   "source": [
    "##Answer 2\n",
    "sum1=0\n",
    "product= 1\n",
    "\n",
    "for i in range(1,11):\n",
    "    sum1=sum1+i\n",
    "    product=product*i\n",
    "print(sum1,product)"
   ]
  },
  {
   "cell_type": "code",
   "execution_count": 3,
   "id": "9cfcabc6-c161-4578-a952-7a82f9b8934c",
   "metadata": {},
   "outputs": [
    {
     "name": "stdout",
     "output_type": "stream",
     "text": [
      "55 3628800\n"
     ]
    }
   ],
   "source": [
    "sum1=0\n",
    "product= 1\n",
    "i=1\n",
    "while i <11:\n",
    "    sum1=sum1+i\n",
    "    product=product*i\n",
    "    i=i+1\n",
    "print(sum1,product)"
   ]
  },
  {
   "cell_type": "code",
   "execution_count": 4,
   "id": "58de790f-53f6-4b56-b6bd-9eac406e12b7",
   "metadata": {},
   "outputs": [
    {
     "name": "stdin",
     "output_type": "stream",
     "text": [
      "Entre the units consumed: 310\n"
     ]
    },
    {
     "name": "stdout",
     "output_type": "stream",
     "text": [
      "2250\n"
     ]
    }
   ],
   "source": [
    "##Answer 3\n",
    "unit=int(input('Entre the units consumed:'))\n",
    "\n",
    "if unit<=100:\n",
    "    bill= 4.5*unit\n",
    "elif unit<=200:\n",
    "    bill=450+(unit-100)*6\n",
    "elif unit<=300:\n",
    "    bill=450+600+(unit-200)*10\n",
    "else:\n",
    "    bill=450+600+1000+(unit-300)*20\n",
    "print(bill)"
   ]
  },
  {
   "cell_type": "code",
   "execution_count": 4,
   "id": "c782f9ae-08fa-46a9-8b24-30bc65378ede",
   "metadata": {},
   "outputs": [
    {
     "name": "stdout",
     "output_type": "stream",
     "text": [
      "[8, 64, 125, 216, 512, 1000, 1728, 2744, 3375, 4096, 5832, 8000, 10648, 13824, 15625, 17576, 21952, 27000, 32768, 39304, 42875, 46656, 54872, 64000, 74088, 85184, 91125, 97336, 110592, 125000, 140608, 157464, 166375, 175616, 195112, 216000, 238328, 262144, 274625, 287496, 314432, 343000, 373248, 405224, 421875, 438976, 474552, 512000, 551368, 592704, 614125, 636056, 681472, 729000, 778688, 830584, 857375, 884736, 941192, 1000000]\n"
     ]
    }
   ],
   "source": [
    "#Answer 4\n",
    "\n",
    "l1=[]\n",
    "l2=[]\n",
    "l3=[]\n",
    "for i in range (1,101):\n",
    "    l1.append(i)\n",
    "\n",
    "for j in l1:\n",
    "    l2.append(j**3)\n",
    "    if (j**3)%4 == 0 or (j**3)%5 == 0:\n",
    "        l3.append(j**3)\n",
    "print(l3)"
   ]
  },
  {
   "cell_type": "code",
   "execution_count": 7,
   "id": "ba61a328-e99c-4696-822b-c02ace643d9c",
   "metadata": {},
   "outputs": [
    {
     "name": "stdout",
     "output_type": "stream",
     "text": [
      "[8, 64, 125, 216, 512, 1000, 1728, 2744, 3375, 4096, 5832, 8000, 10648, 13824, 15625, 17576, 21952, 27000, 32768, 39304, 42875, 46656, 54872, 64000, 74088, 85184, 91125, 97336, 110592, 125000, 140608, 157464, 166375, 175616, 195112, 216000, 238328, 262144, 274625, 287496, 314432, 343000, 373248, 405224, 421875, 438976, 474552, 512000, 551368, 592704, 614125, 636056, 681472, 729000, 778688, 830584, 857375, 884736, 941192, 1000000]\n"
     ]
    }
   ],
   "source": [
    "l1=[]\n",
    "l2=[]\n",
    "l3=[]\n",
    "for i in range (1,101):\n",
    "    l1.append(i)\n",
    "j=0\n",
    "while j<len(l1):\n",
    "    l2.append(l1[j]**3)\n",
    "    if (l1[j]**3)%4 == 0 or (l1[j]**3)%5 == 0:\n",
    "        l3.append(l1[j]**3)\n",
    "    j=j+1\n",
    "print(l3)"
   ]
  },
  {
   "cell_type": "code",
   "execution_count": 10,
   "id": "94539f59-b8ed-4e33-981e-16fe9c69a3f9",
   "metadata": {},
   "outputs": [
    {
     "name": "stdout",
     "output_type": "stream",
     "text": [
      "11\n"
     ]
    }
   ],
   "source": [
    "def vowel(a):\n",
    "    if a in ['a','e','i','o','u']:\n",
    "        return True\n",
    "    else:\n",
    "        return False\n",
    "count=0\n",
    "string = \"I want to become a data scientist\"\n",
    "for i in string:\n",
    "    if(vowel(i) == True):\n",
    "        count=count+1\n",
    "print(count)"
   ]
  },
  {
   "cell_type": "code",
   "execution_count": null,
   "id": "742d31fe-4d3c-46c7-8734-193a5c5f19b5",
   "metadata": {},
   "outputs": [],
   "source": []
  }
 ],
 "metadata": {
  "kernelspec": {
   "display_name": "Python 3 (ipykernel)",
   "language": "python",
   "name": "python3"
  },
  "language_info": {
   "codemirror_mode": {
    "name": "ipython",
    "version": 3
   },
   "file_extension": ".py",
   "mimetype": "text/x-python",
   "name": "python",
   "nbconvert_exporter": "python",
   "pygments_lexer": "ipython3",
   "version": "3.10.8"
  }
 },
 "nbformat": 4,
 "nbformat_minor": 5
}
