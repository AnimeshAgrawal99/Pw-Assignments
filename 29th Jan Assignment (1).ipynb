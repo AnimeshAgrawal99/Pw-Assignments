{
 "cells": [
  {
   "cell_type": "markdown",
   "id": "f92bc73e-34f5-458b-af5f-1375398a2b98",
   "metadata": {},
   "source": [
    "Answer 1\n",
    "Python was created by Guido van Rossum, and first released on February 20, 1991."
   ]
  },
  {
   "cell_type": "markdown",
   "id": "7c9bc36e-4d29-4898-b47b-23e59db0fd77",
   "metadata": {},
   "source": [
    "Answer 2\n",
    "Python is an interpreted programming language, supporting object-oriented, structured, and functional programming."
   ]
  },
  {
   "cell_type": "markdown",
   "id": "b038073a-c619-49d2-8a5b-e6f8e5fc457f",
   "metadata": {},
   "source": [
    "Answer 3\n",
    "Yes python is case sensitive when dealing whith identifiers"
   ]
  },
  {
   "cell_type": "markdown",
   "id": "a8be9730-cfad-4b20-8ce2-e211b762559a",
   "metadata": {},
   "source": [
    "Answer 4\n",
    "The extension of python file is .py"
   ]
  },
  {
   "cell_type": "markdown",
   "id": "3bb4b059-62a5-4b21-971d-1987df3f32dd",
   "metadata": {},
   "source": [
    "Answer 5\n",
    "Python codes are interpreted"
   ]
  },
  {
   "cell_type": "markdown",
   "id": "163fc8c8-06d1-4270-9616-b42f4fdb0ed5",
   "metadata": {},
   "source": [
    "Answer 6\n",
    "\n",
    "A Python program is constructed from code blocks. A block is a piece of Python program text that is executed as a unit. The following are blocks: a module, a function body, and a class definition. Each command typed interactively is a block. A script file (a file given as standard input to the interpreter or specified as a command line argument to the interpreter) is a code block. "
   ]
  },
  {
   "cell_type": "markdown",
   "id": "c50ca7d3-35e5-4216-8cb6-192cd00ce0aa",
   "metadata": {},
   "source": [
    "Answer 7\n",
    "# is used to give single line comment in python"
   ]
  },
  {
   "cell_type": "markdown",
   "id": "3ef00ca7-15b2-421b-8728-e88564933090",
   "metadata": {},
   "source": [
    "Answer 8\n",
    "python_version() is used to determine the version of python we are working on.\n",
    "Example"
   ]
  },
  {
   "cell_type": "code",
   "execution_count": 4,
   "id": "2a0e6514-d051-417e-8c4f-a855e9651eca",
   "metadata": {},
   "outputs": [
    {
     "name": "stdout",
     "output_type": "stream",
     "text": [
      "3.10.8\n"
     ]
    }
   ],
   "source": [
    "import platform\n",
    "print(platform.python_version())"
   ]
  },
  {
   "cell_type": "markdown",
   "id": "3b637942-0fd4-4851-ad1f-2eb75cf8c173",
   "metadata": {},
   "source": [
    "Answer 9\n",
    "lambda"
   ]
  },
  {
   "cell_type": "markdown",
   "id": "03cf975f-009b-467f-8633-aaff049bbc3b",
   "metadata": {},
   "source": [
    "Answer 10\n",
    "pip (an acronym of “pip Install Packages”) is today the standard tool for installing Python packages and their dependencies in a secure manner."
   ]
  },
  {
   "cell_type": "markdown",
   "id": "301a4491-083d-4095-a7ce-3ec5604f308d",
   "metadata": {},
   "source": [
    "Answer 11\n",
    "Few built-in function in python are:\n",
    "len() for calculating lenght of string.\n",
    "input() for taking input from user.\n",
    "int() converting to integer\n",
    "str() converting into string"
   ]
  },
  {
   "cell_type": "markdown",
   "id": "df98985a-1ecc-4b1a-8d0e-e1407a0b28d4",
   "metadata": {},
   "source": [
    "Answer 12\n",
    "An identifier can have a maximum length of 79 characters in Python."
   ]
  },
  {
   "cell_type": "markdown",
   "id": "46445ebc-553d-4bad-892d-8256c2a92631",
   "metadata": {},
   "source": [
    "Answer 13\n",
    "Advantages of Python are:\n",
    "\n",
    "1) Extensive libraries : Python offers a wide range of libraries that can be used across various applications. Libraries are collections of resources that help us streamline application development. Instead of writing every piece of code from scratch, we can use libraries, which contain many pre-written functions and classes.\n",
    "\n",
    "2) Simpler santax: Python has very concise syntax. This is noticeably true even when compared to other high-level programming languages, such as Java.\n",
    "\n",
    "3) Wide range of use cases The Python programming language has various use cases in many growing fields, including:\n",
    "    Data science\n",
    "    Machine learning\n",
    "    Statistics\n",
    "    Cybersecurity"
   ]
  },
  {
   "cell_type": "markdown",
   "id": "8e28d5c7-cd71-43fc-b9da-a9d3c6def2e1",
   "metadata": {},
   "source": [
    "Answer 14\n",
    "Memory management in Python involves a private heap containing all Python objects and data structures. The management of this private heap is ensured internally by the Python memory manager. "
   ]
  },
  {
   "cell_type": "markdown",
   "id": "780a056e-73b0-4e0d-9bc4-81a5dee138d9",
   "metadata": {},
   "source": [
    "Answer 15\n",
    "\n",
    "Install python from this link https://www.python.org/downloads/\n",
    "\n",
    "The complete path of python.exe can be added by:\n",
    "\n",
    "1) Right-clicking This PC and going to Properties.\n",
    "\n",
    "2) Clicking on the Advanced system settings in the menu on the left.\n",
    "\n",
    "3) Clicking on the Environment Variables button o​n the bottom right.\n",
    "\n",
    "4) In the System variables section, selecting the Path variable and clicking on Edit. The next screen will show all the directories that are currently a part of the PATH variable.\n",
    "\n",
    "5) Clicking on New and entering Python’s install directory."
   ]
  },
  {
   "cell_type": "markdown",
   "id": "7ddee5c0-cf02-47dd-a229-4034da11a2fa",
   "metadata": {},
   "source": [
    "Answer 16\n",
    "Indentation is mandatory in python to define the blocks of statements."
   ]
  }
 ],
 "metadata": {
  "kernelspec": {
   "display_name": "Python 3 (ipykernel)",
   "language": "python",
   "name": "python3"
  },
  "language_info": {
   "codemirror_mode": {
    "name": "ipython",
    "version": 3
   },
   "file_extension": ".py",
   "mimetype": "text/x-python",
   "name": "python",
   "nbconvert_exporter": "python",
   "pygments_lexer": "ipython3",
   "version": "3.10.8"
  }
 },
 "nbformat": 4,
 "nbformat_minor": 5
}
