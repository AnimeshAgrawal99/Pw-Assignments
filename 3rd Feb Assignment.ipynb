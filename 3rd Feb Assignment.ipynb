{
 "cells": [
  {
   "cell_type": "markdown",
   "id": "0a520215-dad1-4ee5-9fbe-3273d81e3cda",
   "metadata": {},
   "source": [
    "Answer 1\n",
    "def keyword is used to create a function."
   ]
  },
  {
   "cell_type": "code",
   "execution_count": 7,
   "id": "8a4bf5d5-96c3-48c0-80ee-0d67dfe1bebd",
   "metadata": {},
   "outputs": [],
   "source": [
    "l=[]\n",
    "def oddfun():\n",
    "    for i in range(1,26):\n",
    "        if i%2 != 0:\n",
    "            l.append(i)\n",
    "    return l"
   ]
  },
  {
   "cell_type": "markdown",
   "id": "c598efca-f06f-419a-a5a9-ffbc057d9739",
   "metadata": {},
   "source": [
    "#Answer 2\n",
    "\n",
    "We use *args when we are not sure about the number of arguments we want to pass through our created function.   "
   ]
  },
  {
   "cell_type": "code",
   "execution_count": 11,
   "id": "6cd030bf-0edb-4c77-b4db-d67173055d4c",
   "metadata": {},
   "outputs": [],
   "source": [
    "def sumfun(*args):\n",
    "    sum=0\n",
    "    for i in args:\n",
    "        sum=sum+i\n",
    "    return sum"
   ]
  },
  {
   "cell_type": "markdown",
   "id": "4ac75457-c8ab-47ae-acaf-165a4b578b09",
   "metadata": {},
   "source": [
    "**kwargs allows us to pass a variable number of keyword arguments to a Python function."
   ]
  },
  {
   "cell_type": "code",
   "execution_count": 13,
   "id": "970da9d8-11b0-49a9-8fd2-62cac221bf51",
   "metadata": {},
   "outputs": [],
   "source": [
    "def kw(**kwargs):\n",
    "    print(kwargs, type(kwargs))"
   ]
  },
  {
   "cell_type": "code",
   "execution_count": 14,
   "id": "6e3b7b3e-be68-471f-8a2c-453d391ee8d4",
   "metadata": {},
   "outputs": [
    {
     "name": "stdout",
     "output_type": "stream",
     "text": [
      "{'banana': 5, 'mango': 7, 'apple': 8} <class 'dict'>\n"
     ]
    }
   ],
   "source": [
    "kw(banana=5, mango=7, apple=8)"
   ]
  },
  {
   "cell_type": "markdown",
   "id": "9a698e8e-d63c-4274-b876-99256f4d7fbe",
   "metadata": {},
   "source": [
    "Answer 3\n",
    "Iterator is a object that can be iterated upon i.e we can trasverse through all the values.\n",
    "\n",
    "We can initialise an iterator user function iter(). We can only convert iteratable into iterator using iter() function. This iteratable has to be assigned to a variable which can be directly used in loop.\n"
   ]
  },
  {
   "cell_type": "code",
   "execution_count": 10,
   "id": "92708190-d0be-453c-8fda-baba78f91b26",
   "metadata": {},
   "outputs": [
    {
     "name": "stdout",
     "output_type": "stream",
     "text": [
      "2\n",
      "4\n",
      "6\n",
      "8\n",
      "10\n"
     ]
    }
   ],
   "source": [
    "l1=[2,4,6,8,10,12,14,16,18,20]\n",
    "it1=iter(l1)\n",
    "for i in range(0,5):\n",
    "    print(next(it1))"
   ]
  },
  {
   "cell_type": "markdown",
   "id": "0733635e-5d78-4fe2-875f-005912ee4b54",
   "metadata": {},
   "source": [
    "Answer 4\n",
    "A generator is a function which returns iterator which produces a sequence of values when iterated over. Generators are useful when we want to produce a large sequence of values, but we don't want to store all of them in memory at once.\n",
    "\n",
    "yield keyword is used to return the generator object."
   ]
  },
  {
   "cell_type": "code",
   "execution_count": 1,
   "id": "567c4800-286e-4466-903f-f07b6fd6537d",
   "metadata": {},
   "outputs": [],
   "source": [
    "def test_fib3():\n",
    "    a,b = 0,1\n",
    "    while True:\n",
    "        yield a\n",
    "        a,b = b,a+b"
   ]
  },
  {
   "cell_type": "code",
   "execution_count": 2,
   "id": "6e238a6c-6a0a-46e5-8788-4e3e4b37117c",
   "metadata": {},
   "outputs": [],
   "source": [
    "fib = test_fib3()"
   ]
  },
  {
   "cell_type": "code",
   "execution_count": 3,
   "id": "0380eb18-3b34-49eb-b724-16df4c742dc5",
   "metadata": {},
   "outputs": [
    {
     "name": "stdout",
     "output_type": "stream",
     "text": [
      "0\n",
      "1\n",
      "1\n",
      "2\n",
      "3\n",
      "5\n",
      "8\n",
      "13\n",
      "21\n",
      "34\n"
     ]
    }
   ],
   "source": [
    "for i in range(10):\n",
    "    print(next(fib))"
   ]
  },
  {
   "cell_type": "code",
   "execution_count": 1,
   "id": "0cc9baec-4637-4d11-a897-f39976445a4d",
   "metadata": {},
   "outputs": [
    {
     "name": "stdout",
     "output_type": "stream",
     "text": [
      "1\n",
      "2\n",
      "3\n",
      "5\n",
      "7\n",
      "11\n",
      "13\n",
      "17\n",
      "19\n",
      "23\n",
      "29\n",
      "31\n",
      "37\n",
      "41\n",
      "43\n",
      "47\n",
      "53\n",
      "59\n",
      "61\n",
      "67\n"
     ]
    }
   ],
   "source": [
    "##Answer 5\n",
    "def genprime():\n",
    "    for i in range(1,1000):\n",
    "            for j in range(2,i):\n",
    "                if i%j==0:\n",
    "                    break\n",
    "            else:\n",
    "                yield i\n",
    "prime=genprime()\n",
    "\n",
    "for q in range(20):\n",
    "    print(next(prime))"
   ]
  },
  {
   "cell_type": "code",
   "execution_count": 19,
   "id": "bed1b609-daab-4217-84c3-a01b298384c1",
   "metadata": {},
   "outputs": [
    {
     "name": "stdout",
     "output_type": "stream",
     "text": [
      "0\n",
      "1\n",
      "1\n",
      "2\n",
      "3\n",
      "5\n",
      "8\n",
      "13\n",
      "21\n",
      "34\n"
     ]
    }
   ],
   "source": [
    "#Answer 6\n",
    "a=0\n",
    "b=1\n",
    "c=0\n",
    "i=0\n",
    "while i<10:\n",
    "    print(a)\n",
    "    c=b+a\n",
    "    a=b\n",
    "    b=c\n",
    "    i+=1"
   ]
  },
  {
   "cell_type": "code",
   "execution_count": 22,
   "id": "f83eb8dd-76aa-4255-bb7b-decc89eaad3f",
   "metadata": {},
   "outputs": [
    {
     "name": "stdout",
     "output_type": "stream",
     "text": [
      "['p', 'w', 's', 'k', 'i', 'l', 'l', 's']\n"
     ]
    }
   ],
   "source": [
    "##Answer 7\n",
    "it='pwskills'\n",
    "it=iter(it)\n",
    "it=[ i for i in it]\n",
    "print(it)"
   ]
  },
  {
   "cell_type": "code",
   "execution_count": 50,
   "id": "94136ee2-6035-4a0d-b904-c5e891df2f2c",
   "metadata": {},
   "outputs": [
    {
     "name": "stdin",
     "output_type": "stream",
     "text": [
      "Entre Number: 1234567890\n"
     ]
    },
    {
     "name": "stdout",
     "output_type": "stream",
     "text": [
      "Not Palindrome Number\n"
     ]
    }
   ],
   "source": [
    "##Answer 8\n",
    "import math\n",
    "n=int(input(\"Entre Number:\"))\n",
    "num=n\n",
    "rev=0\n",
    "while(n>0):\n",
    "    rev=rev*10+n%10\n",
    "    n=math.floor(n/10)\n",
    "if rev==num:\n",
    "    print(\"Palindrome Number\")\n",
    "else:\n",
    "    print(\"Not Palindrome Number\")"
   ]
  },
  {
   "cell_type": "code",
   "execution_count": 6,
   "id": "4e499938-c4cf-43d2-b0f2-256abfe60b1a",
   "metadata": {},
   "outputs": [
    {
     "name": "stdout",
     "output_type": "stream",
     "text": [
      "[1, 3, 5, 7, 9, 11, 13, 15, 17, 19, 21, 23, 25, 27, 29, 31, 33, 35, 37, 39, 41, 43, 45, 47, 49, 51, 53, 55, 57, 59, 61, 63, 65, 67, 69, 71, 73, 75, 77, 79, 81, 83, 85, 87, 89, 91, 93, 95, 97, 99]\n"
     ]
    }
   ],
   "source": [
    "#Answer 9\n",
    "l1= [i for i in range(1,101)]\n",
    "l2=[i for i in l1 if i%2 != 0]\n",
    "print(l2)"
   ]
  }
 ],
 "metadata": {
  "kernelspec": {
   "display_name": "Python 3 (ipykernel)",
   "language": "python",
   "name": "python3"
  },
  "language_info": {
   "codemirror_mode": {
    "name": "ipython",
    "version": 3
   },
   "file_extension": ".py",
   "mimetype": "text/x-python",
   "name": "python",
   "nbconvert_exporter": "python",
   "pygments_lexer": "ipython3",
   "version": "3.10.8"
  }
 },
 "nbformat": 4,
 "nbformat_minor": 5
}
