{
 "cells": [
  {
   "cell_type": "code",
   "execution_count": 23,
   "id": "75e20ca5-c9aa-409c-88e4-1dfb4a98deab",
   "metadata": {},
   "outputs": [
    {
     "name": "stdout",
     "output_type": "stream",
     "text": [
      "[('Virat Kohli', 24936), ('Jack Kallis', 25534), ('Ricky Ponting', 27483), ('Sachin Tendulkar', 34357)]\n"
     ]
    }
   ],
   "source": [
    "##Answer 1\n",
    "# Define the list of tuples\n",
    "l1 = [('Sachin Tendulkar', 34357), ('Ricky Ponting', 27483), ('Jack Kallis', 25534), ('Virat Kohli', 24936)]\n",
    "l1=l1.sort\n",
    "#sl = sorted(l1, key=lambda x: x[1])\n",
    "print(sl)"
   ]
  },
  {
   "cell_type": "code",
   "execution_count": 2,
   "id": "0465aa50-a1d8-4ecd-a2a5-4ffd6e46d4dc",
   "metadata": {},
   "outputs": [],
   "source": [
    "\n"
   ]
  },
  {
   "cell_type": "code",
   "execution_count": 9,
   "id": "9de91927-a443-4c88-8460-117688f01d48",
   "metadata": {},
   "outputs": [
    {
     "name": "stdout",
     "output_type": "stream",
     "text": [
      "[1, 4, 9, 16, 25, 36, 49, 64, 81, 100]\n"
     ]
    }
   ],
   "source": [
    "#Answer 2\n",
    "l2=[1,2,3,4,5,6,7,8,9,10]\n",
    "l2=list(map(lambda x:x**2 ,l2))\n",
    "print(l2)"
   ]
  },
  {
   "cell_type": "code",
   "execution_count": 10,
   "id": "0259b52a-2495-404a-9696-9ba680f6981b",
   "metadata": {},
   "outputs": [
    {
     "name": "stdout",
     "output_type": "stream",
     "text": [
      "('1', '2', '3', '4', '5', '6', '7', '8', '9', '10')\n"
     ]
    }
   ],
   "source": [
    "#Answer 3\n",
    "l3=[1, 2, 3, 4, 5, 6, 7, 8, 9, 10]\n",
    "l3=tuple(map(lambda x:str(x),l3))\n",
    "print(l3)"
   ]
  },
  {
   "cell_type": "code",
   "execution_count": 13,
   "id": "4b7410e6-f8b8-40c8-9eca-3648bc85c247",
   "metadata": {},
   "outputs": [
    {
     "data": {
      "text/plain": [
       "15511210043330985984000000"
      ]
     },
     "execution_count": 13,
     "metadata": {},
     "output_type": "execute_result"
    }
   ],
   "source": [
    "#Answer 4\n",
    "from functools import reduce\n",
    "l4=[i for i in range(1,26)]\n",
    "reduce( lambda x,y : x*y ,l4)"
   ]
  },
  {
   "cell_type": "code",
   "execution_count": 15,
   "id": "ed996cb4-f08a-4d13-a4e1-5293923f47ac",
   "metadata": {},
   "outputs": [
    {
     "data": {
      "text/plain": [
       "[6, 60, 90, 120]"
      ]
     },
     "execution_count": 15,
     "metadata": {},
     "output_type": "execute_result"
    }
   ],
   "source": [
    "#Answer 5\n",
    "l5=[2, 3, 6, 9, 27, 60, 90, 120, 55, 46]\n",
    "list(filter(lambda x: x%6==0 , l5))"
   ]
  },
  {
   "cell_type": "code",
   "execution_count": 17,
   "id": "69f40f91-901a-4492-b39b-869192bb344b",
   "metadata": {},
   "outputs": [
    {
     "data": {
      "text/plain": [
       "['php', 'aba', 'radar', 'level']"
      ]
     },
     "execution_count": 17,
     "metadata": {},
     "output_type": "execute_result"
    }
   ],
   "source": [
    "#Answer 6\n",
    "l6=['python', 'php', 'aba', 'radar', 'level']\n",
    "list(filter(lambda x: x[::-1]==x,l6))"
   ]
  },
  {
   "cell_type": "code",
   "execution_count": null,
   "id": "04fbe9df-6088-4757-9e15-85b98f53732a",
   "metadata": {},
   "outputs": [],
   "source": []
  }
 ],
 "metadata": {
  "kernelspec": {
   "display_name": "Python 3 (ipykernel)",
   "language": "python",
   "name": "python3"
  },
  "language_info": {
   "codemirror_mode": {
    "name": "ipython",
    "version": 3
   },
   "file_extension": ".py",
   "mimetype": "text/x-python",
   "name": "python",
   "nbconvert_exporter": "python",
   "pygments_lexer": "ipython3",
   "version": "3.10.8"
  }
 },
 "nbformat": 4,
 "nbformat_minor": 5
}
