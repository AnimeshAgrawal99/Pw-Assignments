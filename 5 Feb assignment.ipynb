{
 "cells": [
  {
   "cell_type": "markdown",
   "id": "a826ae35-e889-4f20-94c0-4713154c776a",
   "metadata": {},
   "source": [
    "Answer 1\n",
    "\n",
    "A class is a user-defined layout or blueprint of an object that describes what a specific kind of object will look like. A class description consists of two things: 1) Attributes or member variables, and 2) Implementations of behavior or member functions.\n",
    "For example, a mobile phone has attributes like a brand name. RAM, and functions like texting and calling Thus, the mobile phone is a class of various phones (the objects)\n",
    "\n",
    "An object is a single instance of a class, which contains data and methods working on that data. So an object consists of three things:\n",
    "1 Name: This is a variable name that represents the object.\n",
    "2 Member data: The data that describes the object. \n",
    "3 Member methods: Behavior that describes the object.\n",
    "For example. Samsung Galaxy is an object with the brand name Samsung, 2GB RAM as properties, and calling and texting as behaviors:"
   ]
  },
  {
   "cell_type": "markdown",
   "id": "1e2ce524-6079-4e80-b1b3-ca4db7297430",
   "metadata": {},
   "source": [
    "Answer 2\n",
    "\n",
    "The four pillars of Oops\n",
    "\n",
    "1 Abstraction- Abstraction means displaying only basic information and hiding the details. Data abstraction refers to providing only necessary information about the data to the outside world, hiding the background info or implementation.\n",
    "\n",
    "2 Encapsulation-Encapsulation is defined as wrapping up of data and information under a single unit. In object-oriented programming, Encapsulation is defined as binding together the data and the functions that manipulate them.\n",
    "\n",
    "3 Inheritance-Inheritance is the process in which two classes have a relationship with each other, and objects of one class acquire properties and features of the other class. The class which inherits the features is known as the child class, and the class whose features it inherited is called the parent class.\n",
    "\n",
    "4 Polymorphism-The word polymorphism means having many forms. It is the ability to take more than one form. It is a feature that provides a function or an operator with more than one definition. It can be implemented using function overloading, operator overload, function overriding, virtual function. An operation may show off different behaviors at different times."
   ]
  },
  {
   "cell_type": "markdown",
   "id": "a11e9869-87bb-4e38-a417-43762f1bd250",
   "metadata": {},
   "source": [
    "Answer 3\n",
    "\n",
    "In Python the __init__() method is called the constructor and is always called when an object is created. Constructors are generally used for instantiating an object. The task of constructors is to initialize(assign values) to the data members of the class when an object of the class is created."
   ]
  },
  {
   "cell_type": "code",
   "execution_count": 1,
   "id": "68e2f224-321a-4142-a8e9-30433246410d",
   "metadata": {},
   "outputs": [
    {
     "name": "stdout",
     "output_type": "stream",
     "text": [
      "Animesh\n"
     ]
    }
   ],
   "source": [
    "class class1:\n",
    "    \n",
    "\tdef __init__(self):\n",
    "\t\tself.name = \"Animesh\"\n",
    "        \n",
    "\tdef print_detail(self):\n",
    "\t\tprint(self.name)\n",
    "\n",
    "obj = class1()\n",
    "obj.print_detail()"
   ]
  },
  {
   "cell_type": "markdown",
   "id": "46ce9e53-e8eb-47cd-8da4-6612bea5adfa",
   "metadata": {},
   "source": [
    "Answer 4\n",
    "The self parameter is a reference to the current instance of the class, and is used to access variables that belongs to the class.\n",
    "It does not have to be named self , we can call it whatever we like, but it has to be the first parameter of any function in the class:"
   ]
  },
  {
   "cell_type": "markdown",
   "id": "8159b2c4-b0e8-4445-ba6b-903d3f591789",
   "metadata": {},
   "source": [
    "Answer 5\n",
    "\n",
    "It is a mechanism that allows you to create a hierarchy of classes that share a set of properties and methods by deriving a class from another class. Inheritance is the capability of one class to derive or inherit the properties from another class."
   ]
  },
  {
   "cell_type": "code",
   "execution_count": 3,
   "id": "9882a0a8-5ad6-48bc-9ea9-f877676afc4a",
   "metadata": {},
   "outputs": [
    {
     "name": "stdout",
     "output_type": "stream",
     "text": [
      "This function is in parent class.\n",
      "This function is in child class.\n"
     ]
    }
   ],
   "source": [
    "class Parent:\n",
    "    def func1(self):\n",
    "        print(\"This function is in parent class.\")\n",
    "\n",
    "class Child(Parent):\n",
    "    def func2(self):\n",
    "        print(\"This function is in child class.\")\n",
    "\n",
    "object = Child()\n",
    "object.func1()\n",
    "object.func2()"
   ]
  }
 ],
 "metadata": {
  "kernelspec": {
   "display_name": "Python 3 (ipykernel)",
   "language": "python",
   "name": "python3"
  },
  "language_info": {
   "codemirror_mode": {
    "name": "ipython",
    "version": 3
   },
   "file_extension": ".py",
   "mimetype": "text/x-python",
   "name": "python",
   "nbconvert_exporter": "python",
   "pygments_lexer": "ipython3",
   "version": "3.10.8"
  }
 },
 "nbformat": 4,
 "nbformat_minor": 5
}
